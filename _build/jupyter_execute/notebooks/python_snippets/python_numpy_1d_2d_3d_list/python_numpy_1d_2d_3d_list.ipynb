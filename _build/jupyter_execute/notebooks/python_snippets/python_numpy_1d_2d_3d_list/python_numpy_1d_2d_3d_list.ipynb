{
 "cells": [
  {
   "cell_type": "markdown",
   "id": "998169bf",
   "metadata": {
    "tags": [
     "hide-output",
     "scroll-output"
    ]
   },
   "source": [
    "# Python & NumPy 1D, 2D, 3D Lists\n"
   ]
  },
  {
   "cell_type": "markdown",
   "id": "0df9e81f",
   "metadata": {},
   "source": [
    "## Python 1D & 2D Lists"
   ]
  },
  {
   "cell_type": "markdown",
   "id": "1c119c6d",
   "metadata": {},
   "source": [
    "### Basic"
   ]
  },
  {
   "cell_type": "markdown",
   "id": "f44da9d3",
   "metadata": {
    "tags": [
     "hide-output",
     "scroll-output"
    ]
   },
   "source": [
    "#### Exercise 1: Sum of diagonal Elements of a 2D List\n"
   ]
  },
  {
   "cell_type": "code",
   "execution_count": null,
   "id": "9da0fce0",
   "metadata": {
    "tags": [
     "hide-output",
     "scroll-output"
    ]
   },
   "outputs": [
    {
     "name": "stdout",
     "output_type": "stream",
     "text": [
      "15\n"
     ]
    }
   ],
   "source": [
    "def diagonal_sum(matrix):\n",
    "    # Check if the matrix is square\n",
    "    if not matrix or len(matrix) != len(matrix[0]):\n",
    "        raise ValueError(\"The matrix must be square.\")\n",
    "    # Calculate the sum of the main diagonal\n",
    "    return sum([matrix[i][i] for i in range(len(matrix))])\n",
    "\n",
    "\n",
    "matrix = [[1, 2, 3], [4, 5, 6], [7, 8, 9]]\n",
    "print(diagonal_sum(matrix))  # Output: 15"
   ]
  },
  {
   "cell_type": "markdown",
   "id": "7eb479bc",
   "metadata": {
    "tags": [
     "hide-output",
     "scroll-output"
    ]
   },
   "source": [
    "#### Exercise 2: Sort a 2D matrix by the sum of its rows\n"
   ]
  },
  {
   "cell_type": "code",
   "execution_count": null,
   "id": "ba74b33a",
   "metadata": {
    "tags": [
     "hide-output",
     "scroll-output"
    ]
   },
   "outputs": [
    {
     "name": "stdout",
     "output_type": "stream",
     "text": [
      "[[1, 5, 6], [4, 2, 7], [3, 8, 2]]\n"
     ]
    }
   ],
   "source": [
    "def sort_matrix_by_row_sum(matrix):\n",
    "    return sorted(matrix, key=lambda row: sum(row))\n",
    "\n",
    "\n",
    "matrix = [[4, 2, 7], [1, 5, 6], [3, 8, 2]]\n",
    "print(sort_matrix_by_row_sum(matrix))"
   ]
  },
  {
   "cell_type": "markdown",
   "id": "915b0210",
   "metadata": {
    "tags": [
     "hide-output",
     "scroll-output"
    ]
   },
   "source": [
    "#### Exercise 3: Inventory Management\n"
   ]
  },
  {
   "cell_type": "markdown",
   "id": "765872cb",
   "metadata": {
    "tags": [
     "hide-output",
     "scroll-output"
    ]
   },
   "source": [
    "A company has a list of inventory items for various products. The inventory information includes the product name, quantity in stock, and the selling price of each product. The company wants to calculate the total value of its inventory.\n",
    "\n",
    "The company's inventory list is represented by a matrix of size nx3, where n is the number of different products. The columns in the matrix represent the product name, quantity in stock, and selling price of each product.\n",
    "\n",
    "For example, the inventory matrix might look like this:\n",
    "Inventory:\n",
    "\n",
    "```\n",
    "|    Name    | Quantity | Price |\n",
    "|  Product 1 |    10    |   5.0   |\n",
    "|  Product 2 |    5     |   2.5   |\n",
    "|  Product 3 |    3     |   8.0   |\n",
    "```\n",
    "\n",
    "- Calculate the total quantity of inventory for all products.\n",
    "- Calculate the inventory value of each product by multiplying the quantity with the selling price of the corresponding product.\n",
    "- Calculate the total value of the entire inventory.\n",
    "\n",
    "Write equations or code to solve each of the above exercises.\n"
   ]
  },
  {
   "cell_type": "code",
   "execution_count": null,
   "id": "84ee014b",
   "metadata": {
    "tags": [
     "hide-output",
     "scroll-output"
    ]
   },
   "outputs": [
    {
     "name": "stdout",
     "output_type": "stream",
     "text": [
      "Total inventory quantity: 18\n",
      "Inventory value of each product: [50.0, 12.5, 24.0]\n",
      "Total inventory value: 86.5\n"
     ]
    }
   ],
   "source": [
    "# Inventory matrix\n",
    "inventory = [[\"Product 1\", 10, 5.0], [\"Product 2\", 5, 2.5], [\"Product 3\", 3, 8.0]]\n",
    "\n",
    "# Calculate the total quantity of inventory for all products\n",
    "total_quantity = sum(item[1] for item in inventory)\n",
    "print(\"Total inventory quantity:\", total_quantity)\n",
    "\n",
    "# Calculate the inventory value of each product\n",
    "product_values = [item[1] * item[2] for item in inventory]\n",
    "print(\"Inventory value of each product:\", product_values)\n",
    "\n",
    "# Calculate the total value of the entire inventory\n",
    "total_value = sum(product_values)\n",
    "print(\"Total inventory value:\", total_value)"
   ]
  },
  {
   "cell_type": "markdown",
   "id": "7e2342b7",
   "metadata": {
    "tags": [
     "hide-output",
     "scroll-output"
    ]
   },
   "source": [
    "## Python 3D List\n"
   ]
  },
  {
   "cell_type": "markdown",
   "id": "bc09d034",
   "metadata": {
    "tags": [
     "hide-output",
     "scroll-output"
    ]
   },
   "source": [
    "### Basic\n"
   ]
  },
  {
   "cell_type": "markdown",
   "id": "e5bc41dd",
   "metadata": {
    "tags": [
     "hide-output",
     "scroll-output"
    ]
   },
   "source": [
    "#### Exercise 1: Find maximum value in a 3D list\n"
   ]
  },
  {
   "cell_type": "code",
   "execution_count": null,
   "id": "d51e863f",
   "metadata": {
    "tags": [
     "hide-output",
     "scroll-output"
    ]
   },
   "outputs": [
    {
     "name": "stdout",
     "output_type": "stream",
     "text": [
      "12\n"
     ]
    }
   ],
   "source": [
    "def find_max(list_3d):\n",
    "    return max(max(list_1d) for list_2d in list_3d for list_1d in list_2d if list_1d)\n",
    "\n",
    "\n",
    "list_3d = [[[1, 2, 3], [4, 5, 6]], [[7, 8, 9], [10, 11, 12]]]\n",
    "print(find_max(list_3d))"
   ]
  },
  {
   "cell_type": "markdown",
   "id": "c5ec8430",
   "metadata": {
    "tags": [
     "hide-output",
     "scroll-output"
    ]
   },
   "source": [
    "#### Exercise 2: Flatten a 3D list into a 1D list\n"
   ]
  },
  {
   "cell_type": "markdown",
   "id": "85368d7c",
   "metadata": {
    "tags": [
     "hide-output",
     "scroll-output"
    ]
   },
   "source": [
    "##### Solution 1: Using Loops\n"
   ]
  },
  {
   "cell_type": "code",
   "execution_count": null,
   "id": "eeccc047",
   "metadata": {
    "tags": [
     "hide-output",
     "scroll-output"
    ]
   },
   "outputs": [
    {
     "name": "stdout",
     "output_type": "stream",
     "text": [
      "[1, 2, 3, 4, 5, 6, 7, 8, 9, 10, 11, 12]\n"
     ]
    }
   ],
   "source": [
    "# Use 3 nested loops to flatten the 3D list\n",
    "def flatten_3d_list(list_3d):\n",
    "    # Initialize an empty list to hold the flattened elements\n",
    "    flat_list = []\n",
    "    # Iterate through each 2D list in the 3D list\n",
    "    for list_2d in list_3d:\n",
    "        # Iterate through each 1D list in the 2D list\n",
    "        for list_1d in list_2d:\n",
    "            # Iterate through each item in the 1D list and append it to the flat_list\n",
    "            for item in list_1d:\n",
    "                flat_list.append(item)\n",
    "    return flat_list\n",
    "\n",
    "\n",
    "list_3d = [[[1, 2, 3], [4, 5, 6]], [[7, 8, 9], [10, 11, 12]]]\n",
    "print(flatten_3d_list(list_3d))"
   ]
  },
  {
   "cell_type": "markdown",
   "id": "889fba00",
   "metadata": {
    "tags": [
     "hide-output",
     "scroll-output"
    ]
   },
   "source": [
    "##### Solution 2: Using List Comprehension\n"
   ]
  },
  {
   "cell_type": "code",
   "execution_count": null,
   "id": "8c2d8d50",
   "metadata": {
    "tags": [
     "hide-output",
     "scroll-output"
    ]
   },
   "outputs": [
    {
     "name": "stdout",
     "output_type": "stream",
     "text": [
      "[1, 2, 3, 4, 5, 6, 7, 8, 9, 10, 11, 12]\n"
     ]
    }
   ],
   "source": [
    "def flatten_3d_list(list_3d):\n",
    "    return [item for list_2d in list_3d for list_1d in list_2d for item in list_1d]\n",
    "\n",
    "\n",
    "list_3d = [[[1, 2, 3], [4, 5, 6]], [[7, 8, 9], [10, 11, 12]]]\n",
    "print(flatten_3d_list(list_3d))"
   ]
  },
  {
   "cell_type": "markdown",
   "id": "13128b7a",
   "metadata": {
    "tags": [
     "hide-output",
     "scroll-output"
    ]
   },
   "source": [
    "#### Exercise 3: Rotate a 3D list (matrix) 90 degrees clockwise\n"
   ]
  },
  {
   "cell_type": "code",
   "execution_count": null,
   "id": "a97dc590",
   "metadata": {
    "tags": [
     "hide-output",
     "scroll-output"
    ]
   },
   "outputs": [
    {
     "name": "stdout",
     "output_type": "stream",
     "text": [
      "[[[7, 8, 9], [1, 2, 3]], [[10, 11, 12], [4, 5, 6]]]\n"
     ]
    }
   ],
   "source": [
    "def rotate_3d_clockwise(list_3d):\n",
    "    # zip(*list_3d) transposes the 3D list, and [list(reversed(x)) for x in ...] reverses each sublist to achieve a 90-degree clockwise rotation\n",
    "    # use * to unpack the list_3d for zip function, which groups elements from each sublist together\n",
    "    # if not using *, zip would treat the entire list_3d as a single argument, resulting in incorrect grouping\n",
    "    return [list(reversed(x)) for x in zip(*list_3d)]\n",
    "\n",
    "\n",
    "list_3d = [[[1, 2, 3], [4, 5, 6]], [[7, 8, 9], [10, 11, 12]]]\n",
    "print(rotate_3d_clockwise(list_3d))"
   ]
  },
  {
   "cell_type": "markdown",
   "id": "26668f98",
   "metadata": {
    "tags": [
     "hide-output",
     "scroll-output"
    ]
   },
   "source": [
    "## Numpy 1D, 2D, 3D List"
   ]
  },
  {
   "cell_type": "markdown",
   "id": "cae9b365",
   "metadata": {
    "tags": [
     "hide-output",
     "scroll-output"
    ]
   },
   "source": [
    "Run this cell to load numpy:\n"
   ]
  },
  {
   "cell_type": "code",
   "execution_count": 2,
   "id": "f4335785",
   "metadata": {
    "tags": [
     "hide-output",
     "scroll-output"
    ]
   },
   "outputs": [],
   "source": [
    "import numpy as np"
   ]
  },
  {
   "cell_type": "markdown",
   "id": "21294f7e",
   "metadata": {
    "tags": [
     "hide-output",
     "scroll-output"
    ]
   },
   "source": [
    "### Numpy 1D List\n"
   ]
  },
  {
   "cell_type": "markdown",
   "id": "ca963072",
   "metadata": {
    "tags": [
     "hide-output",
     "scroll-output"
    ]
   },
   "source": [
    "#### Exercise 1: Create 5 elements array"
   ]
  },
  {
   "cell_type": "code",
   "execution_count": null,
   "id": "2ca4e69a",
   "metadata": {
    "tags": [
     "hide-output",
     "scroll-output"
    ]
   },
   "outputs": [
    {
     "name": "stdout",
     "output_type": "stream",
     "text": [
      "[1 2 3 4 5]\n"
     ]
    }
   ],
   "source": [
    "my_arr = np.array([1, 2, 3, 4, 5])\n",
    "print(my_arr)"
   ]
  },
  {
   "cell_type": "markdown",
   "id": "4f57faae",
   "metadata": {
    "tags": [
     "hide-output",
     "scroll-output"
    ]
   },
   "source": [
    "#### Exercise 2: Sum of all elements in a 1D array"
   ]
  },
  {
   "cell_type": "code",
   "execution_count": null,
   "id": "6e81371e",
   "metadata": {
    "tags": [
     "hide-output",
     "scroll-output"
    ]
   },
   "outputs": [
    {
     "name": "stdout",
     "output_type": "stream",
     "text": [
      "15\n"
     ]
    }
   ],
   "source": [
    "my_arr = np.array([1, 2, 3, 4, 5])\n",
    "total_sum = np.sum(my_arr)  # renamed from 'sum' to avoid shadowing\n",
    "print(total_sum)"
   ]
  },
  {
   "cell_type": "markdown",
   "id": "68b63d1f",
   "metadata": {
    "tags": [
     "hide-output",
     "scroll-output"
    ]
   },
   "source": [
    "#### Exercise 3: Min/Max"
   ]
  },
  {
   "cell_type": "code",
   "execution_count": null,
   "id": "76941af4",
   "metadata": {
    "tags": [
     "hide-output",
     "scroll-output"
    ]
   },
   "outputs": [
    {
     "name": "stdout",
     "output_type": "stream",
     "text": [
      "1 5\n"
     ]
    }
   ],
   "source": [
    "my_arr = np.array([1, 2, 3, 4, 5])\n",
    "min_value, max_value = np.min(my_arr), np.max(my_arr)\n",
    "print(min_value, max_value)"
   ]
  },
  {
   "cell_type": "markdown",
   "id": "836e2e95",
   "metadata": {
    "tags": [
     "hide-output",
     "scroll-output"
    ]
   },
   "source": [
    "#### Exercise 4: Mean/Median of a 1D array"
   ]
  },
  {
   "cell_type": "code",
   "execution_count": null,
   "id": "6879b4fc",
   "metadata": {
    "tags": [
     "hide-output",
     "scroll-output"
    ]
   },
   "outputs": [
    {
     "name": "stdout",
     "output_type": "stream",
     "text": [
      "3.0\n"
     ]
    }
   ],
   "source": [
    "my_arr = np.array([1, 2, 3, 4, 5])\n",
    "mean_value = np.mean(my_arr)\n",
    "median_value = np.median(my_arr)\n",
    "print(mean_value, median_value)"
   ]
  },
  {
   "cell_type": "markdown",
   "id": "bc86470d",
   "metadata": {
    "tags": [
     "hide-output",
     "scroll-output"
    ]
   },
   "source": [
    "#### Exercise 5: Sort ascending/descending order a 1D array"
   ]
  },
  {
   "cell_type": "markdown",
   "id": "d35de303",
   "metadata": {
    "tags": [
     "hide-output",
     "scroll-output"
    ]
   },
   "source": [
    "##### Solution 1: Using np.sort() and slicing\n"
   ]
  },
  {
   "cell_type": "code",
   "execution_count": null,
   "id": "438fbc20",
   "metadata": {
    "tags": [
     "hide-output",
     "scroll-output"
    ]
   },
   "outputs": [
    {
     "name": "stdout",
     "output_type": "stream",
     "text": [
      "[1 2 3 4 5] [5 4 3 2 1]\n"
     ]
    }
   ],
   "source": [
    "my_arr = np.array([1, 2, 3, 4, 5])\n",
    "ascending = np.sort(my_arr)\n",
    "descending = ascending[::-1]\n",
    "print(ascending, descending)"
   ]
  },
  {
   "cell_type": "markdown",
   "id": "c9940624",
   "metadata": {
    "tags": [
     "hide-output",
     "scroll-output"
    ]
   },
   "source": [
    "##### Solution 2: Using np.sort() and np.flip()\n"
   ]
  },
  {
   "cell_type": "code",
   "execution_count": 10,
   "id": "50f3ec13",
   "metadata": {
    "tags": [
     "hide-output",
     "scroll-output"
    ]
   },
   "outputs": [
    {
     "name": "stdout",
     "output_type": "stream",
     "text": [
      "[1 2 3 4 5] [5 4 3 2 1]\n"
     ]
    }
   ],
   "source": [
    "descending = np.flip(ascending)\n",
    "print(ascending, descending)"
   ]
  },
  {
   "cell_type": "markdown",
   "id": "41434d3f",
   "metadata": {
    "tags": [
     "hide-output",
     "scroll-output"
    ]
   },
   "source": [
    "#### Exercise 6: Sum of elements at odd/even indices in a 1D array"
   ]
  },
  {
   "cell_type": "code",
   "execution_count": null,
   "id": "fd05b47e",
   "metadata": {
    "tags": [
     "hide-output",
     "scroll-output"
    ]
   },
   "outputs": [
    {
     "name": "stdout",
     "output_type": "stream",
     "text": [
      "9 6\n"
     ]
    }
   ],
   "source": [
    "my_arr = np.array([1, 2, 3, 4, 5])\n",
    "sum_even_indices = np.sum(my_arr[::2])   # indices 0,2,4\n",
    "sum_odd_indices = np.sum(my_arr[1::2])    # indices 1,3\n",
    "print(sum_even_indices, sum_odd_indices)"
   ]
  },
  {
   "cell_type": "markdown",
   "id": "eb2d6ff1",
   "metadata": {
    "tags": [
     "hide-output",
     "scroll-output"
    ]
   },
   "source": [
    "#### Exercise 7: Find even numbers and their summation in a 1D array"
   ]
  },
  {
   "cell_type": "code",
   "execution_count": null,
   "id": "6ade7e8c",
   "metadata": {
    "tags": [
     "hide-output",
     "scroll-output"
    ]
   },
   "outputs": [
    {
     "name": "stdout",
     "output_type": "stream",
     "text": [
      "30 [ 2  4  6  8 10]\n"
     ]
    }
   ],
   "source": [
    "my_arr = np.array([1, 2, 3, 4, 5, 6, 7, 8, 9, 10])\n",
    "even = my_arr[my_arr % 2 == 0]\n",
    "even_sum = np.sum(even)\n",
    "print(even_sum, even)"
   ]
  },
  {
   "cell_type": "markdown",
   "id": "fada92cf",
   "metadata": {
    "tags": [
     "hide-output",
     "scroll-output"
    ]
   },
   "source": [
    "#### Exercise 8: Sum of prime numbers in a 1D array"
   ]
  },
  {
   "cell_type": "markdown",
   "id": "5a76bd50",
   "metadata": {
    "tags": [
     "hide-output",
     "scroll-output"
    ]
   },
   "source": [
    "`np.vectorize()`\n"
   ]
  },
  {
   "cell_type": "code",
   "execution_count": null,
   "id": "5e9c0b6c",
   "metadata": {
    "tags": [
     "hide-output",
     "scroll-output"
    ]
   },
   "outputs": [
    {
     "name": "stdout",
     "output_type": "stream",
     "text": [
      "[2 3 5 7] 17\n"
     ]
    }
   ],
   "source": [
    "import math\n",
    "\n",
    "\n",
    "def is_prime(n):\n",
    "    if n < 2:\n",
    "        return False\n",
    "    for i in range(2, int(math.sqrt(n)) + 1):\n",
    "        if n % i == 0:\n",
    "            return False\n",
    "    return True\n",
    "\n",
    "\n",
    "my_arr = np.array([1, 2, 3, 4, 5, 6, 7, 8, 9, 10])\n",
    "primes = my_arr[np.vectorize(is_prime)(my_arr)]\n",
    "primes_sum = np.sum(primes)\n",
    "print(primes, primes_sum)"
   ]
  },
  {
   "cell_type": "markdown",
   "id": "0432699a",
   "metadata": {
    "tags": [
     "hide-output",
     "scroll-output"
    ]
   },
   "source": [
    "#### Exercise 9: Sum of positive and product of negative numbers in a 1D array"
   ]
  },
  {
   "cell_type": "markdown",
   "id": "4606ec20",
   "metadata": {
    "tags": [
     "hide-output",
     "scroll-output"
    ]
   },
   "source": [
    "`np.sum()`, `np.prod()`\n"
   ]
  },
  {
   "cell_type": "code",
   "execution_count": null,
   "id": "9bf46147",
   "metadata": {
    "tags": [
     "hide-output",
     "scroll-output"
    ]
   },
   "outputs": [
    {
     "name": "stdout",
     "output_type": "stream",
     "text": [
      "12 -15\n"
     ]
    }
   ],
   "source": [
    "my_arr = np.array([-1, 2, -3, 4, -5, 6])\n",
    "positive_sum = np.sum(my_arr[my_arr > 0])\n",
    "negative_product = np.prod(my_arr[my_arr < 0])  # renamed from negative_sum\n",
    "print(positive_sum, negative_product)"
   ]
  },
  {
   "cell_type": "markdown",
   "id": "84c23af4",
   "metadata": {
    "tags": [
     "hide-output",
     "scroll-output"
    ]
   },
   "source": [
    "#### Exercise 10: Sum of elements after removing duplicates in a 1D array"
   ]
  },
  {
   "cell_type": "markdown",
   "id": "06acdf23",
   "metadata": {
    "tags": [
     "hide-output",
     "scroll-output"
    ]
   },
   "source": [
    "`np.unique()`"
   ]
  },
  {
   "cell_type": "code",
   "execution_count": 20,
   "id": "b617e035",
   "metadata": {
    "tags": [
     "hide-output",
     "scroll-output"
    ]
   },
   "outputs": [
    {
     "name": "stdout",
     "output_type": "stream",
     "text": [
      "[1 2 3 4 5 6 7 8] 36\n"
     ]
    }
   ],
   "source": [
    "my_array = [1, 2, 3, 2, 4, 5, 1, 6, 7, 8, 5]\n",
    "unique = np.unique(my_array)\n",
    "unique_sum = np.sum(unique)\n",
    "print(unique, unique_sum)"
   ]
  },
  {
   "cell_type": "markdown",
   "id": "77e92e60",
   "metadata": {
    "tags": [
     "hide-output",
     "scroll-output"
    ]
   },
   "source": [
    "### Numpy 2D List"
   ]
  },
  {
   "cell_type": "markdown",
   "id": "036d5dc8",
   "metadata": {
    "tags": [
     "hide-output",
     "scroll-output"
    ]
   },
   "source": [
    "#### Basic"
   ]
  },
  {
   "cell_type": "markdown",
   "id": "9dcaf6bd",
   "metadata": {
    "tags": [
     "hide-output",
     "scroll-output"
    ]
   },
   "source": [
    "#### Exercise 1: Sum of elements in a 2D array"
   ]
  },
  {
   "cell_type": "code",
   "execution_count": 21,
   "id": "9011ee54",
   "metadata": {
    "tags": [
     "hide-output",
     "scroll-output"
    ]
   },
   "outputs": [
    {
     "name": "stdout",
     "output_type": "stream",
     "text": [
      "45\n"
     ]
    }
   ],
   "source": [
    "my_array = [[1, 2, 3], [4, 5, 6], [7, 8, 9]]\n",
    "print(np.sum(my_array))"
   ]
  },
  {
   "cell_type": "markdown",
   "id": "59008f6d",
   "metadata": {
    "tags": [
     "hide-output",
     "scroll-output"
    ]
   },
   "source": [
    "#### Exercise 2: Min/Max in a 2D array"
   ]
  },
  {
   "cell_type": "code",
   "execution_count": 22,
   "id": "78d85a72",
   "metadata": {
    "tags": [
     "hide-output",
     "scroll-output"
    ]
   },
   "outputs": [
    {
     "name": "stdout",
     "output_type": "stream",
     "text": [
      "1 9\n"
     ]
    }
   ],
   "source": [
    "my_array = [[1, 2, 3], [4, 5, 6], [7, 8, 9]]\n",
    "print(np.min(my_array), np.max(my_array))"
   ]
  },
  {
   "cell_type": "markdown",
   "id": "974a1d4f",
   "metadata": {
    "tags": [
     "hide-output",
     "scroll-output"
    ]
   },
   "source": [
    "#### Exercise 3: Mean/Median in a 2D array"
   ]
  },
  {
   "cell_type": "code",
   "execution_count": null,
   "id": "bce23d5e",
   "metadata": {
    "tags": [
     "hide-output",
     "scroll-output"
    ]
   },
   "outputs": [
    {
     "name": "stdout",
     "output_type": "stream",
     "text": [
      "5.0\n"
     ]
    }
   ],
   "source": [
    "my_array = [[1, 2, 3], [4, 5, 6], [7, 8, 9]]\n",
    "print(np.mean(my_array), np.median(my_array))  # added median"
   ]
  },
  {
   "cell_type": "markdown",
   "id": "a27d7431",
   "metadata": {
    "tags": [
     "hide-output",
     "scroll-output"
    ]
   },
   "source": [
    "#### Exercise 4: Sort rows in a 2D array"
   ]
  },
  {
   "cell_type": "code",
   "execution_count": null,
   "id": "714fc6e0",
   "metadata": {
    "tags": [
     "hide-output",
     "scroll-output"
    ]
   },
   "outputs": [
    {
     "name": "stdout",
     "output_type": "stream",
     "text": [
      "[[1 3 5]\n",
      " [2 4 6]\n",
      " [7 8 9]]\n",
      "[[9 8 7]\n",
      " [6 4 2]\n",
      " [5 3 1]]\n"
     ]
    }
   ],
   "source": [
    "my_array = [[5, 3, 1], [4, 2, 6], [9, 7, 8]]\n",
    "ascending = np.sort(my_array, axis=1)\n",
    "descending = ascending[:, ::-1]  # per-row descending\n",
    "print(ascending)\n",
    "print(descending)"
   ]
  },
  {
   "cell_type": "markdown",
   "id": "482d0447",
   "metadata": {
    "tags": [
     "hide-output",
     "scroll-output"
    ]
   },
   "source": [
    "#### Exercise 5: Sum of each row and sum of rows sum in a 2D array"
   ]
  },
  {
   "cell_type": "code",
   "execution_count": 27,
   "id": "ed52fe4c",
   "metadata": {
    "tags": [
     "hide-output",
     "scroll-output"
    ]
   },
   "outputs": [
    {
     "name": "stdout",
     "output_type": "stream",
     "text": [
      "[ 6 15 24] 45\n"
     ]
    }
   ],
   "source": [
    "my_array = [[1, 2, 3], [4, 5, 6], [7, 8, 9]]\n",
    "rows_sum = np.sum(my_array, axis=1)\n",
    "rows_sum_sum = np.sum(rows_sum)\n",
    "print(rows_sum, rows_sum_sum)"
   ]
  },
  {
   "cell_type": "markdown",
   "id": "ca9c8e96",
   "metadata": {
    "tags": [
     "hide-output",
     "scroll-output"
    ]
   },
   "source": [
    "#### Exercise 6: Sum of each column and sum of columns sum in a 2D array"
   ]
  },
  {
   "cell_type": "code",
   "execution_count": 31,
   "id": "11862ea3",
   "metadata": {
    "tags": [
     "hide-output",
     "scroll-output"
    ]
   },
   "outputs": [
    {
     "name": "stdout",
     "output_type": "stream",
     "text": [
      "[12 15 18] 45\n"
     ]
    }
   ],
   "source": [
    "my_array = [[1, 2, 3], [4, 5, 6], [7, 8, 9]]\n",
    "columns_sum = np.sum(my_array, axis=0)\n",
    "total_sum = np.sum(columns_sum)\n",
    "print(columns_sum, total_sum)"
   ]
  },
  {
   "cell_type": "markdown",
   "id": "d78b8408",
   "metadata": {
    "tags": [
     "hide-output",
     "scroll-output"
    ]
   },
   "source": [
    "#### Exercise 7: Find max and its position in a 2D array"
   ]
  },
  {
   "cell_type": "code",
   "execution_count": null,
   "id": "cbf8e7df",
   "metadata": {
    "tags": [
     "hide-output",
     "scroll-output"
    ]
   },
   "outputs": [
    {
     "name": "stdout",
     "output_type": "stream",
     "text": [
      "9 (np.int64(1), np.int64(1))\n"
     ]
    }
   ],
   "source": [
    "# np.unravel_index(np.argmax(my_array), my_array.shape) to get the 2D index of the max value\n",
    "my_array = np.array([[1, 2, 3], [4, 9, 6], [7, 8, 5]])\n",
    "max_value = np.max(my_array)\n",
    "max_value_index = np.unravel_index(np.argmax(my_array), my_array.shape)\n",
    "print(max_value, max_value_index)"
   ]
  }
 ],
 "metadata": {
  "kernelspec": {
   "display_name": "Python 3.13 (WSL code-venv)",
   "language": "python",
   "name": "wsl-code-venv"
  },
  "language_info": {
   "codemirror_mode": {
    "name": "ipython",
    "version": 3
   },
   "file_extension": ".py",
   "mimetype": "text/x-python",
   "name": "python",
   "nbconvert_exporter": "python",
   "pygments_lexer": "ipython3",
   "version": "3.12.3"
  }
 },
 "nbformat": 4,
 "nbformat_minor": 5
}