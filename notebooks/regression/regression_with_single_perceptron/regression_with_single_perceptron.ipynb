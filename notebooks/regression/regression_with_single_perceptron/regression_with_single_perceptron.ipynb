{
 "cells": [
  {
   "cell_type": "markdown",
   "id": "d63d8c0a",
   "metadata": {
    "tags": [
     "hide-output",
     "scroll-output"
    ]
   },
   "source": [
    "# Simple Linear Regression\n",
    "<a name='1'></a>\n",
    "## 1 - Simple Linear Regression\n"
   ]
  },
  {
   "cell_type": "markdown",
   "id": "34c9c621",
   "metadata": {
    "tags": [
     "hide-output",
     "scroll-output"
    ]
   },
   "source": [
    "<a name='1.1'></a>\n",
    "### - Simple Linear Regression Model\n",
    "\n",
    "You can describe a simple linear regression model as\n",
    "\n",
    "$$\\hat{y} = wx + b,\\tag{1}$$\n",
    "\n",
    "where $\\hat{y}$ is a prediction of dependent variable $y$ based on independent variable $x$ using a line equation with the slope $w$ and intercept $b$. \n",
    "\n",
    "Given a set of training data points $(x_1, y_1)$, ..., $(x_m, y_m)$, you will find the \"best\" fitting line - such parameters $w$ and $b$ that the differences between original values $y_i$ and predicted values $\\hat{y}_i = wx_i + b$ are minimum."
   ]
  },
  {
   "cell_type": "markdown",
   "id": "7b3c8136",
   "metadata": {
    "tags": [
     "hide-output",
     "scroll-output"
    ]
   },
   "source": [
    "<a name='1.2'></a>\n",
    "### - Neural Network Model with a Single Perceptron and One Input Node\n",
    "\n",
    "The simplest neural network model that describes the above problem can be realized by using one **perceptron**. The **input** and **output** layers will have one **node** each ($x$ for input and $\\hat{y} = z$ for output):\n",
    "\n",
    "<!-- ![Single perceptron](images/nn_model_linear_regression_simple.png){width=400px} -->\n",
    "```{figure} images/nn_model_linear_regression_simple.png\n",
    ":width: 400px\n",
    ":name: nn_model_linear_regression_simple\n",
    "\n",
    "Single perceptron\n",
    "```\n",
    "\n",
    "**Weight** ($w$) and **bias** ($b$) are the parameters that will get updated when you **train** the model. They are initialized to some random values or set to 0 and updated as the training progresses.\n",
    "\n",
    "For each training example $x^{(i)}$, the prediction $\\hat{y}^{(i)}$ can be calculated as:\n",
    "\n",
    "$$\n",
    "z^{(i)} =  w x^{(i)} + b\n",
    "$$\n",
    "\n",
    "$$\n",
    "\\hat{y}^{(i)} = z^{(i)}\n",
    "\\tag{2}\n",
    "$$\n",
    "\n",
    "where $i = 1, \\dots, m$.\n",
    "\n",
    "You can organise all training examples as a vector $X$ of size ($1 \\times m$) and perform scalar multiplication of $X$ ($1 \\times m$) by a scalar $w$, adding $b$, which will be broadcasted to a vector of size ($1 \\times m$):\n",
    "\n",
    "$$\n",
    "Z =  w X + b\n",
    "$$\n",
    "\n",
    "$$\n",
    "\\hat{Y} = Z\n",
    "\\tag{3}\n",
    "$$\n",
    "\n",
    "This set of calculations is called **forward propagation**."
   ]
  },
  {
   "cell_type": "markdown",
   "id": "97dff0d2",
   "metadata": {
    "tags": [
     "hide-output",
     "scroll-output"
    ]
   },
   "source": [
    "For each training example you can measure the difference between original values $y^{(i)}$ and predicted values $\\hat{y}^{(i)}$ with the **loss function** $L\\left(w, b\\right)  = \\frac{1}{2}\\left(\\hat{y}^{(i)} - y^{(i)}\\right)^2$. Division by $2$ is taken just for scaling purposes, you will see the reason below, calculating partial derivatives. To compare the resulting vector of the predictions $\\hat{Y}$ ($1 \\times m$) with the vector $Y$ of original values $y^{(i)}$, you can take an average of the loss function values for each of the training examples:\n",
    "\n",
    "$$\n",
    "\\mathcal{L}\\left(w, b\\right)  = \\frac{1}{2m}\\sum_{i=1}^{m} \\left(\\hat{y}^{(i)} - y^{(i)}\\right)^2\n",
    "\\tag{4}\n",
    "$$\n",
    "\n",
    "This function is called the sum of squares **cost function**. The aim is to optimize the cost function during the training, which will minimize the differences between original values $y^{(i)}$ and predicted values $\\hat{y}^{(i)}$.\n",
    "\n",
    "When your weights were just initialized with some random values, and no training was done yet, you can't expect good results. You need to calculate the adjustments for the weight and bias, minimizing the cost function. This process is called **backward propagation**. \n",
    "\n",
    "According to the gradient descent algorithm, you can calculate partial derivatives as:\n",
    "\n",
    "$$\n",
    "\\frac{\\partial \\mathcal{L} }{ \\partial w } = \n",
    "\\frac{1}{m}\\sum_{i=1}^{m} \\left(\\hat{y}^{(i)} - y^{(i)}\\right)x^{(i)}\n",
    "$$\n",
    "\n",
    "$$\n",
    "\\frac{\\partial \\mathcal{L} }{ \\partial b } = \n",
    "\\frac{1}{m}\\sum_{i=1}^{m} \\left(\\hat{y}^{(i)} - y^{(i)}\\right)\n",
    "\\tag{5}\n",
    "$$\n",
    "\n",
    "You can see how the additional division by $2$ in the equation $(4)$ helped to simplify the results of the partial derivatives. Then update the parameters iteratively using the expressions\n",
    "\n",
    "$$\n",
    "w = w - \\alpha \\frac{\\partial \\mathcal{L} }{ \\partial w }\n",
    "$$\n",
    "\n",
    "$$\n",
    "b = b - \\alpha \\frac{\\partial \\mathcal{L} }{ \\partial b }\n",
    "\\tag{6}\n",
    "$$\n",
    "\n",
    "where $\\alpha$ is the learning rate. Then repeat the process until the cost function stops decreasing.\n",
    "\n",
    "The general **methodology** to build a neural network is to:\n",
    "1. Define the neural network structure ( # of input units,  # of hidden units, etc). \n",
    "2. Initialize the model's parameters\n",
    "3. Loop:\n",
    "    - Implement forward propagation (calculate the perceptron output),\n",
    "    - Implement backward propagation (to get the required corrections for the parameters),\n",
    "    - Update parameters.\n",
    "4. Make predictions.\n",
    "\n",
    "You often build helper functions to compute steps 1-3 and then merge them into one function `nn_model()`. Once you've built `nn_model()` and learnt the right parameters, you can make predictions on new data."
   ]
  },
  {
   "cell_type": "code",
   "execution_count": 50,
   "id": "50e28ab7",
   "metadata": {
    "tags": [
     "hide-output",
     "scroll-output"
    ]
   },
   "outputs": [],
   "source": [
    "# Import all the required packages\n",
    "import numpy as np\n",
    "import matplotlib.pyplot as plt\n",
    "# A library for data manipulation and analysis\n",
    "import pandas as pd\n",
    "\n",
    "# Output of plotting commands is displayed within the Jupyter notebook\n",
    "%matplotlib inline\n",
    "\n",
    "# Set a seed so that the results are consistent accross sessions.\n",
    "np.random.seed(3)"
   ]
  },
  {
   "cell_type": "markdown",
   "id": "d5a78687",
   "metadata": {
    "tags": [
     "hide-output",
     "scroll-output"
    ]
   },
   "source": [
    "### Dataset\n",
    "Load the [Kaggle dataset](https://www.kaggle.com/code/devzohaib/simple-linear-regression/notebook), saved in `../data/tvmarketing.csv`. It has two fields: TV marketing expenses (`TV`) and sales amount (`Sales`)."
   ]
  },
  {
   "cell_type": "code",
   "execution_count": 51,
   "id": "92576489",
   "metadata": {
    "tags": [
     "hide-output",
     "scroll-output"
    ]
   },
   "outputs": [],
   "source": [
    "path = 'data/tvmarketing.csv'\n",
    "adv = pd.read_csv(path)"
   ]
  },
  {
   "cell_type": "markdown",
   "id": "dc4b17d7",
   "metadata": {
    "tags": [
     "hide-output",
     "scroll-output"
    ]
   },
   "source": [
    "Print some part of the dataset"
   ]
  },
  {
   "cell_type": "code",
   "execution_count": 52,
   "id": "de196402",
   "metadata": {
    "tags": [
     "hide-output",
     "scroll-output"
    ]
   },
   "outputs": [
    {
     "data": {
      "text/html": [
       "<div>\n",
       "<style scoped>\n",
       "    .dataframe tbody tr th:only-of-type {\n",
       "        vertical-align: middle;\n",
       "    }\n",
       "\n",
       "    .dataframe tbody tr th {\n",
       "        vertical-align: top;\n",
       "    }\n",
       "\n",
       "    .dataframe thead th {\n",
       "        text-align: right;\n",
       "    }\n",
       "</style>\n",
       "<table border=\"1\" class=\"dataframe\">\n",
       "  <thead>\n",
       "    <tr style=\"text-align: right;\">\n",
       "      <th></th>\n",
       "      <th>TV</th>\n",
       "      <th>Sales</th>\n",
       "    </tr>\n",
       "  </thead>\n",
       "  <tbody>\n",
       "    <tr>\n",
       "      <th>0</th>\n",
       "      <td>230.1</td>\n",
       "      <td>22.1</td>\n",
       "    </tr>\n",
       "    <tr>\n",
       "      <th>1</th>\n",
       "      <td>44.5</td>\n",
       "      <td>10.4</td>\n",
       "    </tr>\n",
       "    <tr>\n",
       "      <th>2</th>\n",
       "      <td>17.2</td>\n",
       "      <td>9.3</td>\n",
       "    </tr>\n",
       "    <tr>\n",
       "      <th>3</th>\n",
       "      <td>151.5</td>\n",
       "      <td>18.5</td>\n",
       "    </tr>\n",
       "    <tr>\n",
       "      <th>4</th>\n",
       "      <td>180.8</td>\n",
       "      <td>12.9</td>\n",
       "    </tr>\n",
       "  </tbody>\n",
       "</table>\n",
       "</div>"
      ],
      "text/plain": [
       "      TV  Sales\n",
       "0  230.1   22.1\n",
       "1   44.5   10.4\n",
       "2   17.2    9.3\n",
       "3  151.5   18.5\n",
       "4  180.8   12.9"
      ]
     },
     "execution_count": 52,
     "metadata": {},
     "output_type": "execute_result"
    }
   ],
   "source": [
    "adv.head()"
   ]
  },
  {
   "cell_type": "markdown",
   "id": "85a5bccf",
   "metadata": {
    "tags": [
     "hide-output",
     "scroll-output"
    ]
   },
   "source": [
    "Plot the data points to see how they are distributed. You can use `plt.plot()` function from `matplotlib.pyplot` module."
   ]
  },
  {
   "cell_type": "code",
   "execution_count": 53,
   "id": "f3fa1ae7",
   "metadata": {
    "tags": [
     "hide-output",
     "scroll-output"
    ]
   },
   "outputs": [
    {
     "data": {
      "text/plain": [
       "<Axes: xlabel='TV', ylabel='Sales'>"
      ]
     },
     "execution_count": 53,
     "metadata": {},
     "output_type": "execute_result"
    },
    {
     "data": {
      "image/png": "[encoded data removed]",
      "text/plain": [
       "<Figure size 640x480 with 1 Axes>"
      ]
     },
     "metadata": {},
     "output_type": "display_data"
    }
   ],
   "source": [
    "adv.plot(x='TV', y='Sales', kind='scatter', c='black')"
   ]
  },
  {
   "cell_type": "markdown",
   "id": "4d2fd049",
   "metadata": {
    "tags": [
     "hide-output",
     "scroll-output"
    ]
   },
   "source": [
    "Normalize the data by subtracting the mean and dividing by the standard deviation. This will help the model to converge faster during training, and to avoid different units of measurement in the input data."
   ]
  },
  {
   "cell_type": "markdown",
   "id": "e11445e3",
   "metadata": {
    "tags": [
     "hide-output",
     "scroll-output"
    ]
   },
   "source": [
    "Normalized data have mean 0 and standard deviation 1. The following cell performs column-wise normalization of the dataset:"
   ]
  },
  {
   "cell_type": "code",
   "execution_count": 54,
   "id": "90a3c925",
   "metadata": {
    "tags": [
     "hide-output",
     "scroll-output"
    ]
   },
   "outputs": [
    {
     "data": {
      "text/html": [
       "<div>\n",
       "<style scoped>\n",
       "    .dataframe tbody tr th:only-of-type {\n",
       "        vertical-align: middle;\n",
       "    }\n",
       "\n",
       "    .dataframe tbody tr th {\n",
       "        vertical-align: top;\n",
       "    }\n",
       "\n",
       "    .dataframe thead th {\n",
       "        text-align: right;\n",
       "    }\n",
       "</style>\n",
       "<table border=\"1\" class=\"dataframe\">\n",
       "  <thead>\n",
       "    <tr style=\"text-align: right;\">\n",
       "      <th></th>\n",
       "      <th>TV</th>\n",
       "      <th>Sales</th>\n",
       "    </tr>\n",
       "  </thead>\n",
       "  <tbody>\n",
       "    <tr>\n",
       "      <th>0</th>\n",
       "      <td>0.969852</td>\n",
       "      <td>1.552053</td>\n",
       "    </tr>\n",
       "    <tr>\n",
       "      <th>1</th>\n",
       "      <td>-1.197376</td>\n",
       "      <td>-0.696046</td>\n",
       "    </tr>\n",
       "    <tr>\n",
       "      <th>2</th>\n",
       "      <td>-1.516155</td>\n",
       "      <td>-0.907406</td>\n",
       "    </tr>\n",
       "    <tr>\n",
       "      <th>3</th>\n",
       "      <td>0.052050</td>\n",
       "      <td>0.860330</td>\n",
       "    </tr>\n",
       "    <tr>\n",
       "      <th>4</th>\n",
       "      <td>0.394182</td>\n",
       "      <td>-0.215683</td>\n",
       "    </tr>\n",
       "  </tbody>\n",
       "</table>\n",
       "</div>"
      ],
      "text/plain": [
       "         TV     Sales\n",
       "0  0.969852  1.552053\n",
       "1 -1.197376 -0.696046\n",
       "2 -1.516155 -0.907406\n",
       "3  0.052050  0.860330\n",
       "4  0.394182 -0.215683"
      ]
     },
     "execution_count": 54,
     "metadata": {},
     "output_type": "execute_result"
    }
   ],
   "source": [
    "adv_norm = (adv - np.mean(adv, axis=0)) / np.std(adv, axis=0) # As omitting axis for np.std() is depracated, to avoid error, we must pass axis\n",
    "adv_norm.head()"
   ]
  },
  {
   "cell_type": "code",
   "execution_count": 55,
   "id": "69eb50f2",
   "metadata": {
    "tags": [
     "hide-output",
     "scroll-output"
    ]
   },
   "outputs": [
    {
     "data": {
      "text/plain": [
       "((1, 200), (1, 200))"
      ]
     },
     "execution_count": 55,
     "metadata": {},
     "output_type": "execute_result"
    }
   ],
   "source": [
    "X_norm = adv_norm['TV'] # type pd.Series\n",
    "Y_norm = adv_norm['Sales'] # type pd.Series\n",
    "\n",
    "# Convert to np.array first to be able to reshape\n",
    "X_norm = np.array(X_norm).reshape(1, -1)\n",
    "Y_norm = np.array(Y_norm).reshape(1, -1)\n",
    "\n",
    "X_norm.shape, Y_norm.shape"
   ]
  },
  {
   "cell_type": "markdown",
   "id": "579df5aa",
   "metadata": {
    "tags": [
     "hide-output",
     "scroll-output"
    ]
   },
   "source": [
    "Plot the data points to see how they are distributed."
   ]
  },
  {
   "cell_type": "code",
   "execution_count": 56,
   "id": "d74e2b64",
   "metadata": {
    "tags": [
     "hide-output",
     "scroll-output"
    ]
   },
   "outputs": [
    {
     "data": {
      "text/plain": [
       "<Axes: xlabel='TV', ylabel='Sales'>"
      ]
     },
     "execution_count": 56,
     "metadata": {},
     "output_type": "execute_result"
    },
    {
     "data": {
      "image/png": "[encoded data removed]",
      "text/plain": [
       "<Figure size 640x480 with 1 Axes>"
      ]
     },
     "metadata": {},
     "output_type": "display_data"
    }
   ],
   "source": [
    "adv_norm.plot(x='TV', y='Sales', kind='scatter', c='black')"
   ]
  },
  {
   "cell_type": "code",
   "execution_count": 57,
   "id": "8a2e38b7",
   "metadata": {
    "tags": [
     "hide-output",
     "scroll-output"
    ]
   },
   "outputs": [
    {
     "name": "stdout",
     "output_type": "stream",
     "text": [
      "1 1\n"
     ]
    }
   ],
   "source": [
    "def layer_sizes(X, Y):\n",
    "    \"\"\"\n",
    "    Arguments:\n",
    "    X -- input dataset of shape (input size, number of examples)\n",
    "    Y -- labels of shape (output size, number of examples)\n",
    "    \n",
    "    Returns:\n",
    "    n_x -- the size of the input layer\n",
    "    n_y -- the size of the output layer\n",
    "    \"\"\"\n",
    "    \n",
    "    n_x, n_y = X.shape[0], Y.shape[0]\n",
    "    \n",
    "    return (n_x, n_y)\n",
    "\n",
    "n_x, n_y = layer_sizes(X_norm, Y_norm)\n",
    "print(n_x, n_y)"
   ]
  },
  {
   "cell_type": "code",
   "execution_count": 58,
   "id": "bd6932e4",
   "metadata": {
    "tags": [
     "hide-output",
     "scroll-output"
    ]
   },
   "outputs": [
    {
     "name": "stdout",
     "output_type": "stream",
     "text": [
      "[[0.01788628]] [[0.]]\n"
     ]
    }
   ],
   "source": [
    "def initialize_parameters(n_x, n_y):\n",
    "    \"\"\"\n",
    "    Returns:\n",
    "    params -- python dictionary containing your parameters:\n",
    "                    W -- weight matrix of shape (n_y, n_x)\n",
    "                    b -- bias value set as a vector of shape (n_y, 1)\n",
    "    \"\"\"\n",
    "    \n",
    "    W = np.random.randn(n_y, n_x) * 0.01 # scales down with std of 0.01 to avoid large computations later on\n",
    "    b = np.zeros((n_y, 1))\n",
    "    \n",
    "    params = {\"W\": W,\n",
    "              \"b\": b}\n",
    "    \n",
    "    return params\n",
    "\n",
    "parameters = initialize_parameters(n_x, n_y)\n",
    "print(parameters[\"W\"], parameters[\"b\"])"
   ]
  },
  {
   "cell_type": "markdown",
   "id": "80a3e0e8",
   "metadata": {
    "tags": [
     "hide-output",
     "scroll-output"
    ]
   },
   "source": [
    "Implement `forward_propagation()` following the equation $(3)$:\n",
    "\n",
    "$$\n",
    "Z =  w X + b\n",
    "$$\n",
    "\n",
    "$$\n",
    "\\hat{Y} = Z\n",
    "$$"
   ]
  },
  {
   "cell_type": "code",
   "execution_count": 59,
   "id": "644ed925",
   "metadata": {
    "tags": [
     "hide-output",
     "scroll-output"
    ]
   },
   "outputs": [
    {
     "name": "stdout",
     "output_type": "stream",
     "text": [
      "Some element of predicted Y_hat values:  [ 0.01734705 -0.02141661 -0.02711838  0.00093098  0.00705046]\n"
     ]
    }
   ],
   "source": [
    "def forward_propagation(X, parameters):\n",
    "    \"\"\"\n",
    "    Argument:\n",
    "    X -- input data of size (n_x, m)\n",
    "    parameters -- python dictionary containing your parameters (output of initialization function)\n",
    "    \n",
    "    Returns:\n",
    "    Y_hat -- The output of size (n_y, m)\n",
    "    \"\"\"\n",
    "    \n",
    "    W = parameters[\"W\"]\n",
    "    b = parameters[\"b\"]\n",
    "    Y_hat = W @ X + b\n",
    "    \n",
    "    return Y_hat\n",
    "\n",
    "Y_hat = forward_propagation(X_norm, parameters)\n",
    "print(\"Some element of predicted Y_hat values: \", Y_hat[0, :5])"
   ]
  },
  {
   "cell_type": "markdown",
   "id": "1e9e358a",
   "metadata": {
    "tags": [
     "hide-output",
     "scroll-output"
    ]
   },
   "source": [
    "Your weights were just initialized with some random values, so the model has not been trained yet. \n",
    "\n",
    "Define a cost function $(4)$ which will be used to train the model:\n",
    "\n",
    "$$\\mathcal{L}\\left(w, b\\right)  = \\frac{1}{2m}\\sum_{i=1}^{m} \\left(\\hat{y}^{(i)} - y^{(i)}\\right)^2$$"
   ]
  },
  {
   "cell_type": "code",
   "execution_count": 60,
   "id": "de07608b",
   "metadata": {
    "tags": [
     "hide-output",
     "scroll-output"
    ]
   },
   "outputs": [
    {
     "name": "stdout",
     "output_type": "stream",
     "text": [
      "cost = 0.48616887080159704\n"
     ]
    }
   ],
   "source": [
    "def compute_cost(Y_hat, Y):\n",
    "    \"\"\"\n",
    "    Computes the cost function as a sum of squares\n",
    "    \n",
    "    Arguments:\n",
    "    Y_hat -- The output of the neural network of shape (n_y, number of examples)\n",
    "    Y -- \"true\" labels vector of shape (n_y, number of examples)\n",
    "    \n",
    "    Returns:\n",
    "    cost -- sum of squares scaled by 1/(2*number of examples)\n",
    "    \n",
    "    \"\"\"\n",
    "    \n",
    "    # Number of examples\n",
    "    m = Y_hat.shape[1]\n",
    "    \n",
    "    # Compute cost\n",
    "    cost = np.sum((Y_hat - Y)**2) / (2*m)\n",
    "    \n",
    "    return cost\n",
    "\n",
    "print(f\"cost = {str(compute_cost(Y_hat, Y_norm))}\")"
   ]
  },
  {
   "cell_type": "markdown",
   "id": "04a123cf",
   "metadata": {
    "tags": [
     "hide-output",
     "scroll-output"
    ]
   },
   "source": [
    "Calculate partial derivatives as shown in $(5)$:\n",
    "\n",
    "$$\n",
    "\\frac{\\partial \\mathcal{L} }{ \\partial w } = \n",
    "\\frac{1}{m}\\sum_{i=1}^{m} \\left(\\hat{y}^{(i)} - y^{(i)}\\right)x^{(i)}\n",
    "$$\n",
    "\n",
    "$$\n",
    "\\frac{\\partial \\mathcal{L} }{ \\partial b } = \n",
    "\\frac{1}{m}\\sum_{i=1}^{m} \\left(\\hat{y}^{(i)} - y^{(i)}\\right)\n",
    "$$"
   ]
  },
  {
   "cell_type": "code",
   "execution_count": 61,
   "id": "67f16c7c",
   "metadata": {
    "tags": [
     "hide-output",
     "scroll-output"
    ]
   },
   "outputs": [
    {
     "name": "stdout",
     "output_type": "stream",
     "text": [
      "dW = [[-0.76433814]]\n",
      "db = [[1.687539e-16]]\n"
     ]
    }
   ],
   "source": [
    "def backward_propagation(Y_hat, X, Y):\n",
    "    \"\"\"\n",
    "    Implements the backward propagation, calculating gradients\n",
    "    \n",
    "    Arguments:\n",
    "    Y_hat -- the output of the neural network of shape (n_y, number of examples)\n",
    "    X -- input data of shape (n_x, number of examples)\n",
    "    Y -- \"true\" labels vector of shape (n_y, number of examples)\n",
    "    \n",
    "    Returns:\n",
    "    grads -- python dictionary containing gradients with respect to different parameters\n",
    "    \"\"\"\n",
    "    \n",
    "    m = X.shape[1]\n",
    "    \n",
    "    dZ = Y_hat - Y\n",
    "    dW = 1/m * (dZ @ X.T)\n",
    "    db = 1/m * np.sum(dZ, axis=1, keepdims=True) # Sum over rows, and do not reduce dimensions. e.g. (n_y,) -> (n_y, 1)\n",
    "    \n",
    "    grads = {\"dW\": dW,\n",
    "             \"db\": db}\n",
    "    \n",
    "    return grads\n",
    "\n",
    "grads = backward_propagation(Y_hat, X_norm, Y_norm)\n",
    "print(\"dW = \" + str(grads[\"dW\"]))\n",
    "print(\"db = \" + str(grads[\"db\"]))"
   ]
  },
  {
   "cell_type": "markdown",
   "id": "86498dbf",
   "metadata": {
    "tags": [
     "hide-output",
     "scroll-output"
    ]
   },
   "source": [
    "Update parameters as shown in $(6)$:\n",
    "\n",
    "$$\n",
    "w = w - \\alpha \\frac{\\partial \\mathcal{L} }{ \\partial w }\n",
    "$$\n",
    "\n",
    "$$\n",
    "b = b - \\alpha \\frac{\\partial \\mathcal{L} }{ \\partial b }\n",
    "$$"
   ]
  },
  {
   "cell_type": "code",
   "execution_count": 62,
   "id": "46eae58c",
   "metadata": {
    "tags": [
     "hide-output",
     "scroll-output"
    ]
   },
   "outputs": [
    {
     "name": "stdout",
     "output_type": "stream",
     "text": [
      "W updated = [[0.93509205]]\n",
      "b updated = [[-2.0250468e-16]]\n"
     ]
    }
   ],
   "source": [
    "def update_parameters(parameters, grads, learning_rate=1.2):\n",
    "    \"\"\"\n",
    "    Updates parameters using the gradient descent update rule\n",
    "    \n",
    "    Arguments:\n",
    "    parameters -- python dictionary containing parameters \n",
    "    grads -- python dictionary containing gradients \n",
    "    learning_rate -- learning rate parameter for gradient descent\n",
    "    \n",
    "    Returns:\n",
    "    parameters -- python dictionary containing updated parameters \n",
    "    \"\"\"\n",
    "    \n",
    "    W = parameters[\"W\"] - learning_rate * grads[\"dW\"]\n",
    "    b = parameters[\"b\"] - learning_rate * grads[\"db\"]\n",
    "    \n",
    "    parameters = {\"W\": W,\n",
    "                  \"b\": b}\n",
    "    \n",
    "    return parameters\n",
    "\n",
    "updated_params = update_parameters(parameters, grads)\n",
    "print(\"W updated = \" + str(updated_params[\"W\"]))\n",
    "print(\"b updated = \" + str(updated_params[\"b\"]))"
   ]
  },
  {
   "cell_type": "markdown",
   "id": "a733bccd",
   "metadata": {
    "tags": [
     "hide-output",
     "scroll-output"
    ]
   },
   "source": [
    "Put everything together in the function `nn_model()`."
   ]
  },
  {
   "cell_type": "code",
   "execution_count": 63,
   "id": "0288d2e0",
   "metadata": {
    "tags": [
     "hide-output",
     "scroll-output"
    ]
   },
   "outputs": [],
   "source": [
    "def nn_model(X, Y, num_iterations=10, learning_rate=1.2, print_cost=False):\n",
    "    \"\"\"\n",
    "    Arguments:\n",
    "    X -- dataset of shape (n_x, number of examples)\n",
    "    Y -- labels of shape (n_y, number of examples)\n",
    "    num_iterations -- number of iterations in the loop\n",
    "    learning_rate -- learning rate parameter for gradient descent\n",
    "    print_cost -- if True, print the cost every iteration\n",
    "    \n",
    "    Returns:\n",
    "    parameters -- parameters learnt by the model. They can then be used to make predictions.\n",
    "    \"\"\"\n",
    "    \n",
    "    n_x, n_y = layer_sizes(X, Y)\n",
    "    \n",
    "    parameters = initialize_parameters(n_x, n_y)\n",
    "    \n",
    "    for i in range(num_iterations):\n",
    "        \n",
    "        # Forward propagation. Inputs: \"X, parameters\". Output: \"Y_hat\".\n",
    "        Y_hat = forward_propagation(X, parameters)\n",
    "        \n",
    "        # Cost function. Inputs: \"Y_hat, Y\". Output: \"cost\".\n",
    "        cost = compute_cost(Y_hat, Y)\n",
    "        \n",
    "        # Backpropagation. Inputs: \"Y_hat, X, Y\". Output: \"grads\".\n",
    "        grads = backward_propagation(Y_hat, X, Y)\n",
    "        \n",
    "        # Gradient descent parameter update. Inputs: \"parameters, grads, learning_rate\". Output: \"parameters\".\n",
    "        parameters = update_parameters(parameters, grads, learning_rate)\n",
    "        \n",
    "        if print_cost:\n",
    "            print(f\"Cost after iteration {i}: {cost}\")\n",
    "    \n",
    "    return parameters    "
   ]
  },
  {
   "cell_type": "code",
   "execution_count": 64,
   "id": "4ed68fa2",
   "metadata": {
    "tags": [
     "hide-output",
     "scroll-output"
    ]
   },
   "outputs": [
    {
     "name": "stdout",
     "output_type": "stream",
     "text": [
      "Cost after iteration 0: 0.49659504037484803\n",
      "Cost after iteration 1: 0.20616377720695983\n",
      "Cost after iteration 2: 0.1945465266802443\n",
      "Cost after iteration 3: 0.1940818366591757\n",
      "Cost after iteration 4: 0.19406324905833294\n",
      "Cost after iteration 5: 0.19406250555429921\n",
      "Cost after iteration 6: 0.19406247581413788\n",
      "Cost after iteration 7: 0.19406247462453144\n",
      "Cost after iteration 8: 0.19406247457694714\n",
      "Cost after iteration 9: 0.1940624745750438\n",
      "Cost after iteration 10: 0.19406247457496764\n",
      "Cost after iteration 11: 0.19406247457496462\n",
      "Cost after iteration 12: 0.19406247457496448\n",
      "Cost after iteration 13: 0.19406247457496448\n",
      "Cost after iteration 14: 0.19406247457496448\n",
      "Cost after iteration 15: 0.19406247457496448\n",
      "Cost after iteration 16: 0.19406247457496448\n",
      "Cost after iteration 17: 0.19406247457496448\n",
      "Cost after iteration 18: 0.19406247457496448\n",
      "Cost after iteration 19: 0.19406247457496448\n",
      "Cost after iteration 20: 0.19406247457496448\n",
      "Cost after iteration 21: 0.19406247457496448\n",
      "Cost after iteration 22: 0.19406247457496448\n",
      "Cost after iteration 23: 0.19406247457496448\n",
      "Cost after iteration 24: 0.19406247457496448\n",
      "Cost after iteration 25: 0.19406247457496448\n",
      "Cost after iteration 26: 0.19406247457496448\n",
      "Cost after iteration 27: 0.19406247457496448\n",
      "Cost after iteration 28: 0.19406247457496448\n",
      "Cost after iteration 29: 0.19406247457496448\n",
      "W = [[0.78222442]]\n",
      "b = [[-3.19744231e-16]]\n"
     ]
    }
   ],
   "source": [
    "parameters_simple = nn_model(X_norm, Y_norm, num_iterations=30, learning_rate=1.2, print_cost=True)\n",
    "print(\"W = \" + str(parameters_simple[\"W\"]))\n",
    "print(\"b = \" + str(parameters_simple[\"b\"]))\n",
    "\n",
    "W_simple = parameters[\"W\"]\n",
    "b_simple = parameters[\"b\"]"
   ]
  },
  {
   "cell_type": "code",
   "execution_count": 65,
   "id": "4ef32a3a",
   "metadata": {
    "tags": [
     "hide-output",
     "scroll-output"
    ]
   },
   "outputs": [
    {
     "name": "stdout",
     "output_type": "stream",
     "text": [
      "TV marketing expenses:\n",
      "[230.1  44.2   8.6]\n",
      "Predictions of sales:\n",
      "[17.97077451  9.13371306  7.44140866]\n"
     ]
    }
   ],
   "source": [
    "def predict(X, Y, parameters, X_pred):\n",
    "    W = parameters[\"W\"]\n",
    "    b = parameters[\"b\"]\n",
    "    \n",
    "    # Use the same mean and standard deviation of the original training array X.\n",
    "    \"\"\"\n",
    "        Handling of X for normalization:\n",
    "\n",
    "        - If X is a Pandas Series:\n",
    "            np.mean(X) and np.std(X) return scalar values (shape ()), \n",
    "            because a Series is essentially a 1D array of values. \n",
    "            This case typically corresponds to having only one feature column.\n",
    "            In this scenario, we store mean and std as scalars and normalize X_pred \n",
    "            using these scalars, then reshape it to (1, len(X_pred)) so that it \n",
    "            matches the expected shape for matrix multiplication with W.\n",
    "\n",
    "        - If X is a Pandas DataFrame:\n",
    "            np.mean(X) and np.std(X) return a Pandas Series containing \n",
    "            column-wise means and standard deviations. Converting them to NumPy \n",
    "            arrays produces a 1D vector of shape (n_features,). \n",
    "            We reshape them to (n_features, 1) so they can be broadcasted \n",
    "            correctly during normalization of X_pred. \n",
    "            This case typically corresponds to having multiple feature columns.\n",
    "    \"\"\"\n",
    "    \n",
    "    if isinstance(X, pd.Series):\n",
    "        X_mean = np.mean(X)\n",
    "        X_std = np.std(X)\n",
    "        X_pred_norm = ((X_pred - X_mean) / X_std).reshape((1, len(X_pred)))\n",
    "    else:\n",
    "        X_mean = np.array(np.mean(X, axis=0)).reshape((len(X.axes[1]), 1))\n",
    "        X_std = np.array(np.std(X, axis=0)).reshape((len(X.axes[1]), 1))\n",
    "        X_pred_norm = (X_pred - X_mean) / X_std\n",
    "        \n",
    "    # Make predictions\n",
    "    Y_pred_norm = W @ X_pred_norm + b\n",
    "    \n",
    "    # Convert back using same mean and std of original training Y\n",
    "    Y_pred = Y_pred_norm * np.std(Y) + np.mean(Y)\n",
    "    \n",
    "    return Y_pred[0]\n",
    "\n",
    "X_pred = np.array([230.1, 44.2, 8.6])\n",
    "Y_pred = predict(adv[\"TV\"], adv[\"Sales\"], parameters_simple, X_pred)\n",
    "print(f\"TV marketing expenses:\\n{X_pred}\")\n",
    "print(f\"Predictions of sales:\\n{Y_pred}\")"
   ]
  },
  {
   "cell_type": "code",
   "execution_count": 66,
   "id": "fce3d428",
   "metadata": {
    "tags": [
     "hide-output",
     "scroll-output"
    ]
   },
   "outputs": [
    {
     "data": {
      "image/png": "[encoded data removed]",
      "text/plain": [
       "<Figure size 640x480 with 1 Axes>"
      ]
     },
     "metadata": {},
     "output_type": "display_data"
    }
   ],
   "source": [
    "fig, ax = plt.subplots()\n",
    "ax.scatter(adv[\"TV\"], adv[\"Sales\"], c=\"black\")\n",
    "\n",
    "ax.set_xlabel(\"$x$\")\n",
    "ax.set_ylabel(\"$y$\")\n",
    "\n",
    "X_line = np.arange(np.min(adv[\"TV\"]), np.max(adv[\"TV\"])*1.1, 0.1)\n",
    "Y_line = predict(adv[\"TV\"], adv[\"Sales\"], parameters_simple, X_line)\n",
    "ax.plot(X_line, Y_line, \"r\")\n",
    "ax.plot(X_pred, Y_pred, \"bo\") # blue dots\n",
    "plt.plot()\n",
    "plt.show()"
   ]
  },
  {
   "cell_type": "markdown",
   "id": "1ac1d7e9",
   "metadata": {
    "tags": [
     "hide-output",
     "scroll-output"
    ]
   },
   "source": [
    "<a name='2'></a>\n",
    "## 2 - Multiple Linear Regression\n",
    "<a name='2.1'></a>\n",
    "### - Neural Network Model with a Single Perceptron and Two Input Nodes"
   ]
  },
  {
   "cell_type": "markdown",
   "id": "9c41581d",
   "metadata": {
    "tags": [
     "hide-output",
     "scroll-output"
    ]
   },
   "source": [
    "Let's build a linear regression model for a Kaggle dataset [House Prices](https://www.kaggle.com/c/house-prices-advanced-regression-techniques), saved in a file `..data/house_prices_train.csv`. You will use two fields - ground living area (`GrLivArea`, square feet) and rates of the overall quality of material and finish (`OverallQual`, 1-10) to predict sales price (`SalePrice`, dollars)."
   ]
  },
  {
   "cell_type": "code",
   "execution_count": 67,
   "id": "15fc8ea6",
   "metadata": {
    "tags": [
     "hide-output",
     "scroll-output"
    ]
   },
   "outputs": [],
   "source": [
    "path = 'data/house_prices_train.csv'\n",
    "df = pd.read_csv(path)"
   ]
  },
  {
   "cell_type": "code",
   "execution_count": 68,
   "id": "a1ad7399",
   "metadata": {
    "tags": [
     "hide-output",
     "scroll-output"
    ]
   },
   "outputs": [
    {
     "data": {
      "text/plain": [
       "((1460, 2), (1460,))"
      ]
     },
     "execution_count": 68,
     "metadata": {},
     "output_type": "execute_result"
    }
   ],
   "source": [
    "\n",
    "X_multi = df[['GrLivArea', 'OverallQual']]\n",
    "Y_multi = df['SalePrice']\n",
    "X_multi.shape, Y_multi.shape"
   ]
  },
  {
   "cell_type": "code",
   "execution_count": 69,
   "id": "4fcee08b",
   "metadata": {
    "tags": [
     "hide-output",
     "scroll-output"
    ]
   },
   "outputs": [
    {
     "data": {
      "text/html": [
       "<div>\n",
       "<style scoped>\n",
       "    .dataframe tbody tr th:only-of-type {\n",
       "        vertical-align: middle;\n",
       "    }\n",
       "\n",
       "    .dataframe tbody tr th {\n",
       "        vertical-align: top;\n",
       "    }\n",
       "\n",
       "    .dataframe thead th {\n",
       "        text-align: right;\n",
       "    }\n",
       "</style>\n",
       "<table border=\"1\" class=\"dataframe\">\n",
       "  <thead>\n",
       "    <tr style=\"text-align: right;\">\n",
       "      <th></th>\n",
       "      <th>GrLivArea</th>\n",
       "      <th>OverallQual</th>\n",
       "    </tr>\n",
       "  </thead>\n",
       "  <tbody>\n",
       "    <tr>\n",
       "      <th>0</th>\n",
       "      <td>1710</td>\n",
       "      <td>7</td>\n",
       "    </tr>\n",
       "    <tr>\n",
       "      <th>1</th>\n",
       "      <td>1262</td>\n",
       "      <td>6</td>\n",
       "    </tr>\n",
       "    <tr>\n",
       "      <th>2</th>\n",
       "      <td>1786</td>\n",
       "      <td>7</td>\n",
       "    </tr>\n",
       "    <tr>\n",
       "      <th>3</th>\n",
       "      <td>1717</td>\n",
       "      <td>7</td>\n",
       "    </tr>\n",
       "    <tr>\n",
       "      <th>4</th>\n",
       "      <td>2198</td>\n",
       "      <td>8</td>\n",
       "    </tr>\n",
       "    <tr>\n",
       "      <th>...</th>\n",
       "      <td>...</td>\n",
       "      <td>...</td>\n",
       "    </tr>\n",
       "    <tr>\n",
       "      <th>1455</th>\n",
       "      <td>1647</td>\n",
       "      <td>6</td>\n",
       "    </tr>\n",
       "    <tr>\n",
       "      <th>1456</th>\n",
       "      <td>2073</td>\n",
       "      <td>6</td>\n",
       "    </tr>\n",
       "    <tr>\n",
       "      <th>1457</th>\n",
       "      <td>2340</td>\n",
       "      <td>7</td>\n",
       "    </tr>\n",
       "    <tr>\n",
       "      <th>1458</th>\n",
       "      <td>1078</td>\n",
       "      <td>5</td>\n",
       "    </tr>\n",
       "    <tr>\n",
       "      <th>1459</th>\n",
       "      <td>1256</td>\n",
       "      <td>5</td>\n",
       "    </tr>\n",
       "  </tbody>\n",
       "</table>\n",
       "<p>1460 rows × 2 columns</p>\n",
       "</div>"
      ],
      "text/plain": [
       "      GrLivArea  OverallQual\n",
       "0          1710            7\n",
       "1          1262            6\n",
       "2          1786            7\n",
       "3          1717            7\n",
       "4          2198            8\n",
       "...         ...          ...\n",
       "1455       1647            6\n",
       "1456       2073            6\n",
       "1457       2340            7\n",
       "1458       1078            5\n",
       "1459       1256            5\n",
       "\n",
       "[1460 rows x 2 columns]"
      ]
     },
     "metadata": {},
     "output_type": "display_data"
    },
    {
     "data": {
      "text/plain": [
       "0       208500\n",
       "1       181500\n",
       "2       223500\n",
       "3       140000\n",
       "4       250000\n",
       "         ...  \n",
       "1455    175000\n",
       "1456    210000\n",
       "1457    266500\n",
       "1458    142125\n",
       "1459    147500\n",
       "Name: SalePrice, Length: 1460, dtype: int64"
      ]
     },
     "metadata": {},
     "output_type": "display_data"
    }
   ],
   "source": [
    "display(X_multi)\n",
    "display(Y_multi)"
   ]
  },
  {
   "cell_type": "code",
   "execution_count": 70,
   "id": "b5c7ebcd",
   "metadata": {
    "tags": [
     "hide-output",
     "scroll-output"
    ]
   },
   "outputs": [
    {
     "data": {
      "text/plain": [
       "((1460, 2), (1, 200))"
      ]
     },
     "execution_count": 70,
     "metadata": {},
     "output_type": "execute_result"
    }
   ],
   "source": [
    "\n",
    "X_multi_norm = (X_multi - np.mean(X_multi, axis=0)) / np.std(X_multi, axis=0)\n",
    "Y_multi_norm = (Y_multi - np.mean(Y_multi)) / np.std(Y_multi, axis=0)\n",
    "X_multi_norm.shape, Y_norm.shape\n"
   ]
  },
  {
   "cell_type": "code",
   "execution_count": 71,
   "id": "cd10db67",
   "metadata": {
    "tags": [
     "hide-output",
     "scroll-output"
    ]
   },
   "outputs": [
    {
     "data": {
      "text/plain": [
       "((1, 200), (1, 1460))"
      ]
     },
     "execution_count": 71,
     "metadata": {},
     "output_type": "execute_result"
    }
   ],
   "source": [
    "X_multi_norm = np.array(X_multi_norm).T\n",
    "Y_multi_norm = np.array(Y_multi_norm).reshape((1, len(Y_multi_norm)))\n",
    "X_norm.shape, Y_multi_norm.shape"
   ]
  },
  {
   "cell_type": "code",
   "execution_count": 72,
   "id": "5bdd07d1",
   "metadata": {
    "tags": [
     "hide-output",
     "scroll-output"
    ]
   },
   "outputs": [
    {
     "name": "stdout",
     "output_type": "stream",
     "text": [
      "[[ 0.37033344 -0.48251191  0.51501256  0.38365915  1.2993257 ]\n",
      " [ 0.65147924 -0.07183611  0.65147924  0.65147924  1.3747946 ]] [ 0.34727322  0.00728832  0.53615372 -0.51528106  0.8698426 ]\n"
     ]
    }
   ],
   "source": [
    "print(X_multi_norm[:, :5], Y_multi_norm[0, :5])"
   ]
  },
  {
   "cell_type": "code",
   "execution_count": 73,
   "id": "2684d374",
   "metadata": {
    "tags": [
     "hide-output",
     "scroll-output"
    ]
   },
   "outputs": [
    {
     "name": "stdout",
     "output_type": "stream",
     "text": [
      "Cost after iteration 0: 0.5142195119760039\n",
      "Cost after iteration 1: 0.44862664805802294\n",
      "Cost after iteration 2: 0.3962236237408893\n",
      "Cost after iteration 3: 0.35322650244442194\n",
      "Cost after iteration 4: 0.3176388968906906\n",
      "Cost after iteration 5: 0.28810227675703015\n",
      "Cost after iteration 6: 0.2635663230551014\n",
      "Cost after iteration 7: 0.2431787775092655\n",
      "Cost after iteration 8: 0.22623677631465744\n",
      "Cost after iteration 9: 0.21215762854913936\n",
      "Cost after iteration 10: 0.20045746930524147\n",
      "Cost after iteration 11: 0.19073428857122826\n",
      "Cost after iteration 12: 0.1826540289332285\n",
      "Cost after iteration 13: 0.1759390850066516\n",
      "Cost after iteration 14: 0.170358759895168\n",
      "Cost after iteration 15: 0.1657213378223942\n",
      "Cost after iteration 16: 0.16186749718900195\n",
      "Cost after iteration 17: 0.15866483686740238\n",
      "Cost after iteration 18: 0.1560033274486568\n",
      "Cost after iteration 19: 0.1537915311054225\n",
      "Cost after iteration 20: 0.1519534601860057\n",
      "Cost after iteration 21: 0.15042596661037508\n",
      "Cost after iteration 22: 0.14915657237810437\n",
      "Cost after iteration 23: 0.14810166665369826\n",
      "Cost after iteration 24: 0.1472250074889603\n",
      "Cost after iteration 25: 0.14649647670811547\n",
      "Cost after iteration 26: 0.14589104517897944\n",
      "Cost after iteration 27: 0.14538791292141448\n",
      "Cost after iteration 28: 0.14496979451095832\n",
      "Cost after iteration 29: 0.1446223252272187\n",
      "Cost after iteration 30: 0.14433356754488944\n",
      "Cost after iteration 31: 0.1440936010125767\n",
      "Cost after iteration 32: 0.14389418142946578\n",
      "Cost after iteration 33: 0.1437284576106279\n",
      "Cost after iteration 34: 0.1435907360102627\n",
      "Cost after iteration 35: 0.14347628511635882\n",
      "Cost after iteration 36: 0.1433811728966296\n",
      "Cost after iteration 37: 0.14330213171107611\n",
      "Cost after iteration 38: 0.1432364460501643\n",
      "Cost after iteration 39: 0.14318185924179086\n",
      "Cost after iteration 40: 0.1431364959218967\n",
      "Cost after iteration 41: 0.14309879760515798\n",
      "Cost after iteration 42: 0.14306746914224452\n",
      "Cost after iteration 43: 0.14304143422415205\n",
      "Cost after iteration 44: 0.1430197984049305\n",
      "Cost after iteration 45: 0.1430018183724325\n",
      "Cost after iteration 46: 0.1429868764113577\n",
      "Cost after iteration 47: 0.14297445918125612\n",
      "Cost after iteration 48: 0.14296414008039493\n",
      "Cost after iteration 49: 0.142955564589588\n",
      "Cost after iteration 50: 0.1429484380924669\n",
      "Cost after iteration 51: 0.14294251575375058\n",
      "Cost after iteration 52: 0.14293759410777576\n",
      "Cost after iteration 53: 0.14293350406830627\n",
      "Cost after iteration 54: 0.1429301051194693\n",
      "Cost after iteration 55: 0.1429272804882445\n",
      "Cost after iteration 56: 0.1429249331326534\n",
      "Cost after iteration 57: 0.14292298240782159\n",
      "Cost after iteration 58: 0.14292136129537322\n",
      "Cost after iteration 59: 0.14292001410097277\n",
      "Cost after iteration 60: 0.14291889454091114\n",
      "Cost after iteration 61: 0.14291796415199975\n",
      "Cost after iteration 62: 0.14291719097014374\n",
      "Cost after iteration 63: 0.14291654843219517\n",
      "Cost after iteration 64: 0.14291601446335958\n",
      "Cost after iteration 65: 0.14291557071880256\n",
      "Cost after iteration 66: 0.14291520195340132\n",
      "Cost after iteration 67: 0.1429148954979891\n",
      "Cost after iteration 68: 0.1429146408240979\n",
      "Cost after iteration 69: 0.1429144291822463\n",
      "Cost after iteration 70: 0.1429142533013457\n",
      "Cost after iteration 71: 0.14291410713889743\n",
      "Cost after iteration 72: 0.14291398567339883\n",
      "Cost after iteration 73: 0.14291388473182634\n",
      "Cost after iteration 74: 0.14291380084626906\n",
      "Cost after iteration 75: 0.14291373113478598\n",
      "Cost after iteration 76: 0.1429136732023953\n",
      "Cost after iteration 77: 0.14291362505879346\n",
      "Cost after iteration 78: 0.14291358504997667\n",
      "Cost after iteration 79: 0.14291355180141707\n",
      "Cost after iteration 80: 0.1429135241708394\n",
      "Cost after iteration 81: 0.14291350120897797\n",
      "Cost after iteration 82: 0.1429134821269635\n",
      "Cost after iteration 83: 0.1429134662692215\n",
      "Cost after iteration 84: 0.14291345309094916\n",
      "Cost after iteration 85: 0.14291344213939877\n",
      "Cost after iteration 86: 0.14291343303832293\n",
      "Cost after iteration 87: 0.14291342547504843\n",
      "Cost after iteration 88: 0.14291341918973427\n",
      "Cost after iteration 89: 0.1429134139664445\n",
      "Cost after iteration 90: 0.14291340962572974\n",
      "Cost after iteration 91: 0.142913406018462\n",
      "Cost after iteration 92: 0.14291340302071137\n",
      "Cost after iteration 93: 0.14291340052948823\n",
      "Cost after iteration 94: 0.142913398459205\n",
      "Cost after iteration 95: 0.14291339673873585\n",
      "Cost after iteration 96: 0.14291339530897298\n",
      "Cost after iteration 97: 0.14291339412079596\n",
      "Cost after iteration 98: 0.14291339313338425\n",
      "Cost after iteration 99: 0.1429133923128147\n",
      "W: [[0.3694604  0.57181575]] and b: [[1.21181604e-16]]\n"
     ]
    }
   ],
   "source": [
    "parameters_multi = nn_model(X_multi_norm, Y_multi_norm, num_iterations=100, print_cost=True)\n",
    "\n",
    "W = parameters_multi[\"W\"]\n",
    "b = parameters_multi[\"b\"]\n",
    "print(f\"W: {parameters_multi['W']} and b: {parameters_multi['b']}\")"
   ]
  },
  {
   "cell_type": "code",
   "execution_count": 74,
   "id": "8e5604ac",
   "metadata": {
    "tags": [
     "hide-output",
     "scroll-output"
    ]
   },
   "outputs": [
    {
     "name": "stdout",
     "output_type": "stream",
     "text": [
      "Ground living area, square feet:\n",
      "[1710 1200 2200]\n",
      "Rates of the overall quality of material and finish, 1-10:\n",
      "[7 6 8]\n",
      "Predictions of sales price, $:\n",
      "[221371. 160039. 281587.]\n"
     ]
    }
   ],
   "source": [
    "X_multi_pred = np.array([[1710, 7], [1200, 6], [2200, 8]]).T\n",
    "Y_multi_pred = predict(X_multi, Y_multi, parameters_multi, X_multi_pred)\n",
    "\n",
    "print(f\"Ground living area, square feet:\\n{X_multi_pred[0]}\")\n",
    "print(f\"Rates of the overall quality of material and finish, 1-10:\\n{X_multi_pred[1]}\")\n",
    "print(f\"Predictions of sales price, $:\\n{np.round(Y_multi_pred)}\")"
   ]
  },
  {
   "cell_type": "code",
   "execution_count": 75,
   "id": "5484e954",
   "metadata": {
    "tags": [
     "hide-output",
     "scroll-output"
    ]
   },
   "outputs": [
    {
     "data": {
      "image/png": "[encoded data removed]",
      "text/plain": [
       "<Figure size 1200x500 with 2 Axes>"
      ]
     },
     "metadata": {},
     "output_type": "display_data"
    }
   ],
   "source": [
    "# Ensure X_multi and Y_multi exist; if not, load\n",
    "try:\n",
    "    X_multi\n",
    "    Y_multi\n",
    "except NameError:\n",
    "    df = pd.read_csv('../data/house_prices_train.csv')\n",
    "    X_multi = df[['GrLivArea', 'OverallQual']]\n",
    "    Y_multi = df['SalePrice']\n",
    "\n",
    "# Ensure trained parameters are available (no retraining here)\n",
    "if 'parameters_multi' not in globals():\n",
    "    raise RuntimeError(\"Trained parameters 'parameters_multi' not found. Please run the training cell above first.\")\n",
    "\n",
    "# Build prediction grids while fixing the other feature at its mean (original scale)\n",
    "x1 = np.linspace(X_multi['GrLivArea'].min(), X_multi['GrLivArea'].max() * 1.1, 200)\n",
    "x2_fixed = float(X_multi['OverallQual'].mean())\n",
    "X_pred1 = np.vstack([x1, np.full_like(x1, x2_fixed)])  # shape (2, 200)\n",
    "y1 = predict(X_multi, Y_multi, parameters_multi, X_pred1)\n",
    "\n",
    "x2 = np.linspace(X_multi['OverallQual'].min(), X_multi['OverallQual'].max() * 1.1, 200)\n",
    "x1_fixed = float(X_multi['GrLivArea'].mean())\n",
    "X_pred2 = np.vstack([np.full_like(x2, x1_fixed), x2])  # shape (2, 200)\n",
    "y2 = predict(X_multi, Y_multi, parameters_multi, X_pred2)\n",
    "\n",
    "# Plot\n",
    "fig, axes = plt.subplots(1, 2, figsize=(12, 5), sharey=True)\n",
    "\n",
    "# Subplot 1: SalePrice vs GrLivArea\n",
    "axes[0].scatter(X_multi['GrLivArea'], Y_multi, s=12, alpha=0.6, color='black', label='Data')\n",
    "axes[0].plot(x1, y1, color='red', linewidth=2, label='Predicted')\n",
    "axes[0].set_xlabel('GrLivArea (sq ft)')\n",
    "axes[0].set_ylabel('SalePrice ($)')\n",
    "axes[0].set_title('SalePrice vs GrLivArea')\n",
    "axes[0].legend(loc='best')\n",
    "\n",
    "# Subplot 2: SalePrice vs OverallQual\n",
    "axes[1].scatter(X_multi['OverallQual'], Y_multi, s=12, alpha=0.6, color='black', label='Data')\n",
    "axes[1].plot(x2, y2, color='red', linewidth=2, label='Predicted')\n",
    "axes[1].set_xlabel('OverallQual (1-10)')\n",
    "axes[1].set_title('SalePrice vs OverallQual')\n",
    "axes[1].legend(loc='best')\n",
    "\n",
    "fig.suptitle('House Prices: Feature-wise Scatter with Predicted Lines', y=1.02)\n",
    "plt.tight_layout()\n",
    "plt.show()"
   ]
  }
 ],
 "metadata": {
  "kernelspec": {
   "display_name": "Python 3.13 (WSL code-venv)",
   "language": "python",
   "name": "wsl-code-venv"
  },
  "language_info": {
   "codemirror_mode": {
    "name": "ipython",
    "version": 3
   },
   "file_extension": ".py",
   "mimetype": "text/x-python",
   "name": "python",
   "nbconvert_exporter": "python",
   "pygments_lexer": "ipython3",
   "version": "3.12.3"
  }
 },
 "nbformat": 4,
 "nbformat_minor": 5
}
